{
 "cells": [
  {
   "cell_type": "code",
   "execution_count": 1,
   "metadata": {},
   "outputs": [],
   "source": [
    "!cd backend/"
   ]
  },
  {
   "cell_type": "code",
   "execution_count": 2,
   "metadata": {},
   "outputs": [
    {
     "name": "stdout",
     "output_type": "stream",
     "text": [
      "/Users/bb4341/Workspace/FSND/project02\r\n"
     ]
    }
   ],
   "source": [
    "!pwd"
   ]
  },
  {
   "cell_type": "code",
   "execution_count": 4,
   "metadata": {},
   "outputs": [
    {
     "name": "stdout",
     "output_type": "stream",
     "text": [
      "createdb: database creation failed: ERROR:  database \"trivia\" already exists\r\n"
     ]
    }
   ],
   "source": [
    "!createdb trivia"
   ]
  },
  {
   "cell_type": "code",
   "execution_count": 5,
   "metadata": {},
   "outputs": [
    {
     "name": "stdout",
     "output_type": "stream",
     "text": [
      "SET\n",
      "SET\n",
      "SET\n",
      "SET\n",
      "SET\n",
      " set_config \n",
      "------------\n",
      " \n",
      "(1 row)\n",
      "\n",
      "SET\n",
      "SET\n",
      "SET\n",
      "SET\n",
      "SET\n",
      "SET\n",
      "CREATE TABLE\n",
      "ERROR:  role \"caryn\" does not exist\n",
      "CREATE SEQUENCE\n",
      "ERROR:  role \"caryn\" does not exist\n",
      "ALTER SEQUENCE\n",
      "CREATE TABLE\n",
      "ERROR:  role \"caryn\" does not exist\n",
      "CREATE SEQUENCE\n",
      "ERROR:  role \"caryn\" does not exist\n",
      "ALTER SEQUENCE\n",
      "ALTER TABLE\n",
      "ALTER TABLE\n",
      "COPY 6\n",
      "COPY 19\n",
      " setval \n",
      "--------\n",
      "      6\n",
      "(1 row)\n",
      "\n",
      " setval \n",
      "--------\n",
      "     23\n",
      "(1 row)\n",
      "\n",
      "ALTER TABLE\n",
      "ALTER TABLE\n",
      "ALTER TABLE\n"
     ]
    }
   ],
   "source": [
    "!psql trivia < backend/trivia.psql"
   ]
  },
  {
   "cell_type": "code",
   "execution_count": null,
   "metadata": {},
   "outputs": [],
   "source": []
  }
 ],
 "metadata": {
  "kernelspec": {
   "display_name": "Python 3",
   "language": "python",
   "name": "python3"
  },
  "language_info": {
   "codemirror_mode": {
    "name": "ipython",
    "version": 3
   },
   "file_extension": ".py",
   "mimetype": "text/x-python",
   "name": "python",
   "nbconvert_exporter": "python",
   "pygments_lexer": "ipython3",
   "version": "3.7.3"
  }
 },
 "nbformat": 4,
 "nbformat_minor": 4
}
