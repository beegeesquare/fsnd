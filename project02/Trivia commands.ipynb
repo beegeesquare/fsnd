{
 "cells": [
  {
   "cell_type": "code",
   "execution_count": 1,
   "metadata": {},
   "outputs": [],
   "source": [
    "!cd backend/"
   ]
  },
  {
   "cell_type": "code",
   "execution_count": 2,
   "metadata": {},
   "outputs": [
    {
     "name": "stdout",
     "output_type": "stream",
     "text": [
      "/Users/bb4341/Workspace/FSND/project02\r\n"
     ]
    }
   ],
   "source": [
    "!pwd"
   ]
  },
  {
   "cell_type": "code",
   "execution_count": 4,
   "metadata": {},
   "outputs": [
    {
     "name": "stdout",
     "output_type": "stream",
     "text": [
      "createdb: database creation failed: ERROR:  database \"trivia\" already exists\r\n"
     ]
    }
   ],
   "source": [
    "!createdb trivia"
   ]
  },
  {
   "cell_type": "code",
   "execution_count": 5,
   "metadata": {},
   "outputs": [
    {
     "name": "stdout",
     "output_type": "stream",
     "text": [
      "SET\n",
      "SET\n",
      "SET\n",
      "SET\n",
      "SET\n",
      " set_config \n",
      "------------\n",
      " \n",
      "(1 row)\n",
      "\n",
      "SET\n",
      "SET\n",
      "SET\n",
      "SET\n",
      "SET\n",
      "SET\n",
      "CREATE TABLE\n",
      "ERROR:  role \"caryn\" does not exist\n",
      "CREATE SEQUENCE\n",
      "ERROR:  role \"caryn\" does not exist\n",
      "ALTER SEQUENCE\n",
      "CREATE TABLE\n",
      "ERROR:  role \"caryn\" does not exist\n",
      "CREATE SEQUENCE\n",
      "ERROR:  role \"caryn\" does not exist\n",
      "ALTER SEQUENCE\n",
      "ALTER TABLE\n",
      "ALTER TABLE\n",
      "COPY 6\n",
      "COPY 19\n",
      " setval \n",
      "--------\n",
      "      6\n",
      "(1 row)\n",
      "\n",
      " setval \n",
      "--------\n",
      "     23\n",
      "(1 row)\n",
      "\n",
      "ALTER TABLE\n",
      "ALTER TABLE\n",
      "ALTER TABLE\n"
     ]
    }
   ],
   "source": [
    "!psql trivia < backend/trivia.psql"
   ]
  },
  {
   "cell_type": "code",
   "execution_count": 6,
   "metadata": {},
   "outputs": [],
   "source": [
    "# Set the environment variable for the app\n",
    "!cd backend/"
   ]
  },
  {
   "cell_type": "code",
   "execution_count": 8,
   "metadata": {},
   "outputs": [
    {
     "name": "stdout",
     "output_type": "stream",
     "text": [
      "/Users/bb4341/Workspace/FSND/project02\r\n"
     ]
    }
   ],
   "source": [
    "# Run the command inside the backend folder\n",
    "!pwd\n",
    "# Change directory is not working for this\n"
   ]
  },
  {
   "cell_type": "code",
   "execution_count": null,
   "metadata": {},
   "outputs": [],
   "source": [
    "# !export FLASK_APP=flaskr\n",
    "# !export FLASK_ENV=development"
   ]
  },
  {
   "cell_type": "code",
   "execution_count": 15,
   "metadata": {},
   "outputs": [
    {
     "name": "stdout",
     "output_type": "stream",
     "text": [
      "* Rebuilt URL to: http://127.0.0.1/\n",
      "*   Trying 135.28.13.11...\n",
      "* TCP_NODELAY set\n",
      "* Connected to one.proxy.att.com (135.28.13.11) port 8080 (#0)\n",
      "> GET http://127.0.0.1/ HTTP/1.1\n",
      "> Host: 127.0.0.1\n",
      "> User-Agent: curl/7.54.0\n",
      "> Accept: */*\n",
      "> Proxy-Connection: Keep-Alive\n",
      "> \n",
      "< HTTP/1.1 301 Moved Permanently\n",
      "< Server: BlueCoat-Security-Appliance\n",
      "< Location:http://135.210.240.210\n",
      "< Connection: Close\n",
      "< \n",
      "<HTML>\n",
      "<HEAD><TITLE>Redirection</TITLE></HEAD>\n",
      "<BODY><H1>Redirect</H1></BODY>\n",
      "* Closing connection 0\n"
     ]
    }
   ],
   "source": [
    "!curl -v --noproxy localhost http://127.0.0.1"
   ]
  },
  {
   "cell_type": "code",
   "execution_count": 16,
   "metadata": {},
   "outputs": [
    {
     "name": "stdout",
     "output_type": "stream",
     "text": [
      "*   Trying 135.28.13.11...\n",
      "* TCP_NODELAY set\n",
      "* Connected to one.proxy.att.com (135.28.13.11) port 8080 (#0)\n",
      "> GET http://localhost:5000/categories HTTP/1.1\n",
      "> Host: localhost:5000\n",
      "> User-Agent: curl/7.54.0\n",
      "> Accept: */*\n",
      "> Proxy-Connection: Keep-Alive\n",
      "> \n",
      "< HTTP/1.1 404 Not Found\n",
      "< Cache-Control: no-cache\n",
      "< Pragma: no-cache\n",
      "< Content-Type: text/html; charset=utf-8\n",
      "< Proxy-Connection: Keep-Alive\n",
      "< Connection: Keep-Alive\n",
      "< Content-Length: 605\n",
      "< \n",
      "<HTML><HEAD>\n",
      "<TITLE>Network Error</TITLE>\n",
      "</HEAD>\n",
      "<BODY>\n",
      "<FONT face=\"Helvetica\">\n",
      "<big><strong></strong></big><BR>\n",
      "</FONT>\n",
      "<blockquote>\n",
      "<TABLE border=0 cellPadding=1 width=\"80%\">\n",
      "<TR><TD>\n",
      "<FONT face=\"Helvetica\">\n",
      "<big>Network Error (dns_unresolved_hostname)</big>\n",
      "<BR>\n",
      "<BR>\n",
      "</FONT>\n",
      "</TD></TR>\n",
      "<TR><TD>\n",
      "<FONT face=\"Helvetica\">\n",
      "Your requested host \"localhost\" could not be resolved by DNS.\n",
      "</FONT>\n",
      "</TD></TR>\n",
      "<TR><TD>\n",
      "<FONT face=\"Helvetica\">\n",
      "\n",
      "</FONT>\n",
      "</TD></TR>\n",
      "<TR><TD>\n",
      "<FONT face=\"Helvetica\" SIZE=2>\n",
      "<BR>\n",
      "\n",
      "</FONT>\n",
      "</TD></TR>\n",
      "</TABLE>\n",
      "</blockquote>\n",
      "</FONT>\n",
      "</BODY></HTML>\n",
      "* Connection #0 to host one.proxy.att.com left intact\n"
     ]
    }
   ],
   "source": [
    "!curl -v http://localhost:5000/categories"
   ]
  }
 ],
 "metadata": {
  "kernelspec": {
   "display_name": "Python 3",
   "language": "python",
   "name": "python3"
  },
  "language_info": {
   "codemirror_mode": {
    "name": "ipython",
    "version": 3
   },
   "file_extension": ".py",
   "mimetype": "text/x-python",
   "name": "python",
   "nbconvert_exporter": "python",
   "pygments_lexer": "ipython3",
   "version": "3.7.3"
  }
 },
 "nbformat": 4,
 "nbformat_minor": 4
}
