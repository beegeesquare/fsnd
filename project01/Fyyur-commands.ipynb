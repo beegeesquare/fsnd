{
 "cells": [
  {
   "cell_type": "code",
   "execution_count": null,
   "metadata": {},
   "outputs": [],
   "source": [
    "# Auto reload the notebook for changes in file\n",
    "%load_ext autoreload\n",
    "%autoreload 2"
   ]
  },
  {
   "cell_type": "code",
   "execution_count": null,
   "metadata": {},
   "outputs": [],
   "source": [
    "!ls"
   ]
  },
  {
   "cell_type": "code",
   "execution_count": null,
   "metadata": {},
   "outputs": [],
   "source": [
    "!createdb fyyur"
   ]
  },
  {
   "cell_type": "code",
   "execution_count": null,
   "metadata": {},
   "outputs": [],
   "source": [
    "# Initialize the migration for the models existing the app.py\n",
    "!flask db init"
   ]
  },
  {
   "cell_type": "code",
   "execution_count": null,
   "metadata": {},
   "outputs": [],
   "source": [
    "# Running the first upgrade generated 1e254cd34974_.py alembic file\n",
    "!flask db migrate"
   ]
  },
  {
   "cell_type": "code",
   "execution_count": null,
   "metadata": {},
   "outputs": [],
   "source": [
    "!flask db upgrade"
   ]
  },
  {
   "cell_type": "code",
   "execution_count": 1,
   "metadata": {},
   "outputs": [],
   "source": [
    "from data import ven1, ven2, ven3\n",
    "\n",
    "from app import Venue, Artist, db\n",
    "\n"
   ]
  },
  {
   "cell_type": "code",
   "execution_count": null,
   "metadata": {},
   "outputs": [],
   "source": [
    "ven1"
   ]
  },
  {
   "cell_type": "code",
   "execution_count": null,
   "metadata": {},
   "outputs": [],
   "source": [
    "v1 = Venue(id = 1, name = ven1[\"name\"], city = ven1[\"city\"], state = ven1[\"state\"], address=ven1[\"address\"],\n",
    "           phone = ven1[\"phone\"], image_link = ven1[\"image_link\"], \n",
    "           facebook_link=ven1[\"facebook_link\"])"
   ]
  },
  {
   "cell_type": "code",
   "execution_count": null,
   "metadata": {},
   "outputs": [],
   "source": [
    "print(v1)"
   ]
  },
  {
   "cell_type": "code",
   "execution_count": null,
   "metadata": {},
   "outputs": [],
   "source": [
    "ven2"
   ]
  },
  {
   "cell_type": "code",
   "execution_count": null,
   "metadata": {},
   "outputs": [],
   "source": [
    "v2 = Venue(id = 2, name = ven2[\"name\"], city = ven2[\"city\"], state = ven2[\"state\"], address=ven2[\"address\"],\n",
    "           phone = ven2[\"phone\"], image_link = ven2[\"image_link\"], facebook_link=ven2[\"facebook_link\"])"
   ]
  },
  {
   "cell_type": "code",
   "execution_count": null,
   "metadata": {},
   "outputs": [],
   "source": [
    "ven3"
   ]
  },
  {
   "cell_type": "code",
   "execution_count": null,
   "metadata": {},
   "outputs": [],
   "source": [
    "v3 = Venue(id = 3, name = ven3[\"name\"], city = ven3[\"city\"], state = ven3[\"state\"], address=ven3[\"address\"],\n",
    "           phone = ven3[\"phone\"], image_link = ven3[\"image_link\"], \n",
    "           facebook_link=ven3[\"facebook_link\"])"
   ]
  },
  {
   "cell_type": "code",
   "execution_count": null,
   "metadata": {},
   "outputs": [],
   "source": [
    "db.session.add_all([v1, v2, v3])"
   ]
  },
  {
   "cell_type": "code",
   "execution_count": null,
   "metadata": {},
   "outputs": [],
   "source": [
    "db.session.commit()"
   ]
  },
  {
   "cell_type": "code",
   "execution_count": null,
   "metadata": {},
   "outputs": [],
   "source": [
    "# Doing a migration on Artists column genres to array\n",
    "!flask db migrate"
   ]
  },
  {
   "cell_type": "markdown",
   "metadata": {},
   "source": [
    "### Migrate\n",
    "Changing column type did not generate a migration. \n",
    "https://alembic.sqlalchemy.org/en/latest/autogenerate.html#what-does-autogenerate-detect-and-what-does-it-not-detect\n",
    "\n",
    "Changing the column from datatype String to Array has to done on `psql`. Or we remove the string column from the table do a `flask db migrate` and then a `flask db upgrade` and then add the ARRAY datatype column to the table and then migrate."
   ]
  },
  {
   "cell_type": "code",
   "execution_count": null,
   "metadata": {},
   "outputs": [],
   "source": [
    "!flask db migrate"
   ]
  },
  {
   "cell_type": "code",
   "execution_count": null,
   "metadata": {},
   "outputs": [],
   "source": [
    "!flask db upgrade"
   ]
  },
  {
   "cell_type": "code",
   "execution_count": null,
   "metadata": {},
   "outputs": [],
   "source": [
    "!flask db migrate"
   ]
  },
  {
   "cell_type": "code",
   "execution_count": null,
   "metadata": {},
   "outputs": [],
   "source": [
    "!flask db upgrade"
   ]
  },
  {
   "cell_type": "code",
   "execution_count": null,
   "metadata": {},
   "outputs": [],
   "source": [
    "from data import art1, art2, art3"
   ]
  },
  {
   "cell_type": "code",
   "execution_count": null,
   "metadata": {},
   "outputs": [],
   "source": [
    "a1 = Artist(id = art1[\"id\"], name = art1[\"name\"], city = art1[\"city\"], state = art1[\"state\"],\n",
    "           phone = art1[\"phone\"], genres = art1[\"genres\"], image_link = art1[\"image_link\"], \n",
    "           facebook_link=art1[\"facebook_link\"])"
   ]
  },
  {
   "cell_type": "code",
   "execution_count": null,
   "metadata": {},
   "outputs": [],
   "source": [
    "a2 = Artist(id = art2[\"id\"], name = art2[\"name\"], city = art2[\"city\"], state = art2[\"state\"], \n",
    "           phone = art2[\"phone\"], genres = art2[\"genres\"], image_link = art2[\"image_link\"], \n",
    "           facebook_link=art2[\"facebook_link\"])"
   ]
  },
  {
   "cell_type": "code",
   "execution_count": null,
   "metadata": {},
   "outputs": [],
   "source": [
    "a3 = Artist(id = art3[\"id\"], name = art3[\"name\"], city = art3[\"city\"], state = art3[\"state\"],\n",
    "           phone = art3[\"phone\"], genres = art3[\"genres\"], image_link = art3[\"image_link\"]\n",
    "         \n",
    "          )"
   ]
  },
  {
   "cell_type": "code",
   "execution_count": null,
   "metadata": {},
   "outputs": [],
   "source": [
    "db.session.add_all([a1, a2, a3])\n",
    "db.session.commit()"
   ]
  },
  {
   "cell_type": "markdown",
   "metadata": {},
   "source": [
    "### Adding missing columns to the Artist and Venue tables\n",
    "<ol>\n",
    "    <li> Venue </li>\n",
    "    <ul> \n",
    "        <li>Genres</li>\n",
    "        <li>website</li>\n",
    "        <li> seeking talent </li>\n",
    "        <li> seeking description </li>\n",
    "      </ul>\n",
    "    <li> Artist </li>\n",
    "    <ul>\n",
    "        <li> website </li>\n",
    "        <li> seeking talent </li>\n",
    "        <li> seeking description </li>\n",
    "    </ul>\n",
    "</ol>"
   ]
  },
  {
   "cell_type": "code",
   "execution_count": null,
   "metadata": {},
   "outputs": [],
   "source": [
    "!flask db migrate"
   ]
  },
  {
   "cell_type": "code",
   "execution_count": null,
   "metadata": {},
   "outputs": [],
   "source": [
    "!flask db upgrade"
   ]
  },
  {
   "cell_type": "markdown",
   "metadata": {},
   "source": [
    "Now add data to the upgraded table where the values of these new columns are null"
   ]
  },
  {
   "cell_type": "code",
   "execution_count": null,
   "metadata": {},
   "outputs": [],
   "source": [
    "# Changed the tables for artist, venue and also added the show table\n",
    "!flask db migrate"
   ]
  },
  {
   "cell_type": "markdown",
   "metadata": {},
   "source": [
    "**Before we run the upgrade always check the auto generated migrated script to make any custom changes** "
   ]
  },
  {
   "cell_type": "code",
   "execution_count": null,
   "metadata": {},
   "outputs": [],
   "source": [
    "!flask db upgrade"
   ]
  },
  {
   "cell_type": "markdown",
   "metadata": {},
   "source": [
    "Add data to the show table"
   ]
  },
  {
   "cell_type": "code",
   "execution_count": null,
   "metadata": {},
   "outputs": [],
   "source": [
    "from app import Show"
   ]
  },
  {
   "cell_type": "code",
   "execution_count": null,
   "metadata": {},
   "outputs": [],
   "source": [
    "from data import data"
   ]
  },
  {
   "cell_type": "code",
   "execution_count": null,
   "metadata": {},
   "outputs": [],
   "source": [
    "s1 = Show(show_id=1, venue_id=data[0]['venue_id'], artist_id=data[0]['artist_id'], \n",
    "          artist_image_link=data[0]['artist_image_link'], start_time=data[0]['start_time'])"
   ]
  },
  {
   "cell_type": "code",
   "execution_count": null,
   "metadata": {},
   "outputs": [],
   "source": [
    "s2 = Show(show_id=2, venue_id=data[1]['venue_id'], artist_id=data[1]['artist_id'], \n",
    "          artist_image_link=data[1]['artist_image_link'], start_time=data[1]['start_time'])"
   ]
  },
  {
   "cell_type": "code",
   "execution_count": null,
   "metadata": {},
   "outputs": [],
   "source": [
    "all_shows = []\n",
    "for i, d in enumerate(data):\n",
    "    s = Show(show_id=i+1, venue_id=data[i]['venue_id'], artist_id=data[i]['artist_id'], \n",
    "          artist_image_link=data[i]['artist_image_link'], start_time=data[i]['start_time'])\n",
    "    all_shows.append(s)"
   ]
  },
  {
   "cell_type": "code",
   "execution_count": null,
   "metadata": {},
   "outputs": [],
   "source": [
    "all_shows"
   ]
  },
  {
   "cell_type": "code",
   "execution_count": null,
   "metadata": {},
   "outputs": [],
   "source": [
    "db.session.add_all(all_shows)"
   ]
  },
  {
   "cell_type": "code",
   "execution_count": null,
   "metadata": {},
   "outputs": [],
   "source": [
    "db.session.commit()"
   ]
  },
  {
   "cell_type": "markdown",
   "metadata": {},
   "source": [
    "#### All the data for the tables has been added ####"
   ]
  },
  {
   "cell_type": "code",
   "execution_count": 17,
   "metadata": {},
   "outputs": [],
   "source": [
    "from app import format_datetime, Show"
   ]
  },
  {
   "cell_type": "code",
   "execution_count": 2,
   "metadata": {},
   "outputs": [],
   "source": [
    "import datetime as dt"
   ]
  },
  {
   "cell_type": "code",
   "execution_count": 11,
   "metadata": {},
   "outputs": [],
   "source": [
    "city_state = Venue.query.with_entities(Venue.city, Venue.state).distinct().all()"
   ]
  },
  {
   "cell_type": "code",
   "execution_count": 12,
   "metadata": {},
   "outputs": [
    {
     "name": "stdout",
     "output_type": "stream",
     "text": [
      "[('San Francisco', 'CA'), ('New York', 'NY')]\n"
     ]
    }
   ],
   "source": [
    "print(city_state)"
   ]
  },
  {
   "cell_type": "code",
   "execution_count": 43,
   "metadata": {},
   "outputs": [],
   "source": [
    "data = []\n",
    "for cs in city_state:\n",
    "    data.append({'city': cs[0], 'state': cs[1]})\n",
    "    get_vens_ = Venue.query.filter_by(city=cs[0], state=cs[1]).all()\n",
    "    # Take the latest element in the list that just got appended\n",
    "    data[-1]['venues'] = []\n",
    "    for v in get_vens_:\n",
    "        \n",
    "        venue_details = {'id': v.id, 'name': v.name, 'num_upcoming_shows':0}\n",
    "        \n",
    "        # Get the shows for this venue\n",
    "        # This gives the list of shows for this venue\n",
    "        shows_ = v.show_id # This is the relation that we have already defined in the schema\n",
    "        # All this can be done without a for loop if we define the column start_time is db.DateTime\n",
    "        for s in shows_:\n",
    "            if dt.datetime.strptime(s.start_time, '%Y-%m-%dT%H:%M:%S.%fZ') > dt.datetime.now():\n",
    "                venue_details['num_upcoming_shows'] += 1        \n",
    "        data[-1]['venues'].append(venue_details)"
   ]
  },
  {
   "cell_type": "code",
   "execution_count": 44,
   "metadata": {},
   "outputs": [
    {
     "data": {
      "text/plain": [
       "[{'city': 'San Francisco',\n",
       "  'state': 'CA',\n",
       "  'venues': [{'id': 1, 'name': 'The Musical Hop', 'num_upcoming_shows': 0},\n",
       "   {'id': 3,\n",
       "    'name': 'Park Square Live Music & Coffee',\n",
       "    'num_upcoming_shows': 3}]},\n",
       " {'city': 'New York',\n",
       "  'state': 'NY',\n",
       "  'venues': [{'id': 2,\n",
       "    'name': 'The Dueling Pianos Bar',\n",
       "    'num_upcoming_shows': 0}]}]"
      ]
     },
     "execution_count": 44,
     "metadata": {},
     "output_type": "execute_result"
    }
   ],
   "source": [
    "data"
   ]
  },
  {
   "cell_type": "code",
   "execution_count": null,
   "metadata": {},
   "outputs": [],
   "source": [
    "print(format_datetime(\"2019-05-21T21:30:00.000Z\"))"
   ]
  },
  {
   "cell_type": "code",
   "execution_count": null,
   "metadata": {},
   "outputs": [],
   "source": [
    "temp_date = format_datetime(\"2019-05-21T21:30:00.000Z\")"
   ]
  },
  {
   "cell_type": "code",
   "execution_count": null,
   "metadata": {},
   "outputs": [],
   "source": [
    "dt_temp_date = dt.datetime.strptime(\"2019-05-21T21:30:00.000Z\", '%Y-%m-%dT%H:%M:%S.%fZ')"
   ]
  },
  {
   "cell_type": "code",
   "execution_count": null,
   "metadata": {},
   "outputs": [],
   "source": []
  },
  {
   "cell_type": "code",
   "execution_count": null,
   "metadata": {},
   "outputs": [],
   "source": [
    "v1_new = Venue.query.get(1)"
   ]
  },
  {
   "cell_type": "code",
   "execution_count": null,
   "metadata": {},
   "outputs": [],
   "source": [
    "v1_new.genres = ven1['genres']\n",
    "v1_new.seeking_talent = ven1['seeking_talent']\n",
    "v1_new.seeking_description = ven1['seeking_description'] "
   ]
  },
  {
   "cell_type": "code",
   "execution_count": null,
   "metadata": {},
   "outputs": [],
   "source": [
    "db.session.commit()"
   ]
  },
  {
   "cell_type": "code",
   "execution_count": null,
   "metadata": {},
   "outputs": [],
   "source": [
    "v2_new = Venue.query.get(2)\n",
    "v2_new.genres = ven2['genres']\n",
    "v2_new.seeking_talent = ven2['seeking_talent']"
   ]
  },
  {
   "cell_type": "code",
   "execution_count": null,
   "metadata": {},
   "outputs": [],
   "source": [
    "v3_new = Venue.query.get(3)\n",
    "v3_new.genres = ven3['genres']\n",
    "v3_new.seeking_talent = ven3['seeking_talent']"
   ]
  },
  {
   "cell_type": "code",
   "execution_count": null,
   "metadata": {},
   "outputs": [],
   "source": [
    "db.session.commit()\n"
   ]
  },
  {
   "cell_type": "code",
   "execution_count": null,
   "metadata": {},
   "outputs": [],
   "source": [
    "a1_new = Artist.query.get(4)"
   ]
  },
  {
   "cell_type": "code",
   "execution_count": null,
   "metadata": {},
   "outputs": [],
   "source": [
    "a1_new.website = art1['website']"
   ]
  },
  {
   "cell_type": "code",
   "execution_count": null,
   "metadata": {},
   "outputs": [],
   "source": [
    "a1_new.seeking_talent = art1['seeking_talent']"
   ]
  },
  {
   "cell_type": "code",
   "execution_count": null,
   "metadata": {},
   "outputs": [],
   "source": [
    "a2_new = Artist.query.get(5)\n",
    "#a2_new.website = art2['website']\n",
    "a2_new.seeking_talent = art2['seeking_talent']\n",
    "a2_new.seeking_description = art2['seeking_description']"
   ]
  },
  {
   "cell_type": "code",
   "execution_count": null,
   "metadata": {},
   "outputs": [],
   "source": [
    "db.session.commit()"
   ]
  },
  {
   "cell_type": "code",
   "execution_count": null,
   "metadata": {},
   "outputs": [],
   "source": [
    "# Running db migrate for changing the name of the column\n",
    "!flask db migrate"
   ]
  },
  {
   "cell_type": "code",
   "execution_count": null,
   "metadata": {},
   "outputs": [],
   "source": [
    "!flask db upgrade"
   ]
  },
  {
   "cell_type": "code",
   "execution_count": null,
   "metadata": {},
   "outputs": [],
   "source": [
    "a4_new = Artist.query.get(4)"
   ]
  },
  {
   "cell_type": "code",
   "execution_count": null,
   "metadata": {},
   "outputs": [],
   "source": [
    "a4_new.seeking_venue = art1['seeking_venue']"
   ]
  },
  {
   "cell_type": "code",
   "execution_count": null,
   "metadata": {},
   "outputs": [],
   "source": [
    "a4_new.seeking_description = art1['seeking_description']\n",
    "a4_new.website = art1['website']"
   ]
  },
  {
   "cell_type": "code",
   "execution_count": null,
   "metadata": {},
   "outputs": [],
   "source": [
    "db.session.commit()"
   ]
  },
  {
   "cell_type": "code",
   "execution_count": null,
   "metadata": {},
   "outputs": [],
   "source": [
    "a6_new = Artist.query.get(6)\n",
    "a6_new.seeking_venue = art3['seeking_venue']"
   ]
  },
  {
   "cell_type": "code",
   "execution_count": null,
   "metadata": {},
   "outputs": [],
   "source": [
    "db.session.commit()"
   ]
  },
  {
   "cell_type": "code",
   "execution_count": null,
   "metadata": {},
   "outputs": [],
   "source": [
    "unique_cities = Venue.query(Venue.city).distinct()"
   ]
  },
  {
   "cell_type": "code",
   "execution_count": null,
   "metadata": {},
   "outputs": [],
   "source": []
  },
  {
   "cell_type": "code",
   "execution_count": null,
   "metadata": {},
   "outputs": [],
   "source": [
    "# test the venue search\n",
    "ven_search = Venue.query.filter(Venue.name.contains(\"Music\"))"
   ]
  },
  {
   "cell_type": "code",
   "execution_count": null,
   "metadata": {},
   "outputs": [],
   "source": [
    "ven_search.all()"
   ]
  },
  {
   "cell_type": "code",
   "execution_count": null,
   "metadata": {},
   "outputs": [],
   "source": [
    "# ilike needs the pattern matching % refers to any number of characters characters followed (https://www.postgresql.org/docs/9.0/functions-matching.html)\n",
    "Venue.query.filter(Venue.name.ilike(r\"%{0}%\".format(\"music\"))).all()"
   ]
  },
  {
   "cell_type": "code",
   "execution_count": null,
   "metadata": {},
   "outputs": [],
   "source": [
    "# get_vens = db.session.query(Venue).distinct(Venue.city, Venue.state)\n",
    "# get_vens = Venue.query.distinct(Venue.city, Venue.state).group_by(Venue.city, Venue.state)\n",
    "# get_vens = Venue.query.with_entities(Venue.city, Venue.state).distinct()\n",
    "get_vens = session.query(Venue.city.distinct()).all()"
   ]
  },
  {
   "cell_type": "code",
   "execution_count": null,
   "metadata": {},
   "outputs": [],
   "source": [
    "get_vens = db.engine.execute('SELECT DISTINCT city, state FROM \"Venue\";')\n",
    "# get_vens = Venue.query.group_by(Venue.city Venue.state).all()\n"
   ]
  },
  {
   "cell_type": "code",
   "execution_count": null,
   "metadata": {},
   "outputs": [],
   "source": [
    "print(get_vens)"
   ]
  },
  {
   "cell_type": "code",
   "execution_count": null,
   "metadata": {},
   "outputs": [],
   "source": [
    "for (city, state) in get_vens:\n",
    "    print(city, state)\n",
    "    # get the venue id, name, and num of upcoming shows for each city/state pair\n",
    "    # vens = Venue.query.filter_by(city=city).order_by('id').all()\n",
    "    vens = db.engine.execute('''select * from \"Venue\" where \"Venue\".city='{0}' and \\\n",
    "                             \"Venue\".state='{1}' order by \"Venue\".id;'''.format(city, state))\n",
    "    for v in vens:\n",
    "        print(v)\n",
    "    "
   ]
  },
  {
   "cell_type": "code",
   "execution_count": null,
   "metadata": {},
   "outputs": [],
   "source": [
    "gen_ven_2 = Venue.query.group_by(Venue.id, Venue.city, Venue.state).all()\n",
    "\n",
    "\n"
   ]
  },
  {
   "cell_type": "code",
   "execution_count": null,
   "metadata": {},
   "outputs": [],
   "source": [
    "print(gen_ven_2)"
   ]
  },
  {
   "cell_type": "code",
   "execution_count": null,
   "metadata": {},
   "outputs": [],
   "source": [
    "city_state[0]"
   ]
  },
  {
   "cell_type": "code",
   "execution_count": null,
   "metadata": {},
   "outputs": [],
   "source": [
    "city_state_2 = Venue.query.with_entities(Venue.city, Venue.state).distinct().all()"
   ]
  },
  {
   "cell_type": "code",
   "execution_count": null,
   "metadata": {},
   "outputs": [],
   "source": [
    "city_state_2"
   ]
  },
  {
   "cell_type": "code",
   "execution_count": null,
   "metadata": {},
   "outputs": [],
   "source": []
  },
  {
   "cell_type": "code",
   "execution_count": null,
   "metadata": {},
   "outputs": [],
   "source": [
    "data"
   ]
  },
  {
   "cell_type": "code",
   "execution_count": null,
   "metadata": {},
   "outputs": [],
   "source": [
    "# Create migration after adding the Show table\n",
    "!flask db migrate"
   ]
  },
  {
   "cell_type": "code",
   "execution_count": null,
   "metadata": {},
   "outputs": [],
   "source": [
    "!flask db downgrade"
   ]
  },
  {
   "cell_type": "code",
   "execution_count": null,
   "metadata": {},
   "outputs": [],
   "source": [
    "!flask db upgrade"
   ]
  }
 ],
 "metadata": {
  "kernelspec": {
   "display_name": "Python 3",
   "language": "python",
   "name": "python3"
  },
  "language_info": {
   "codemirror_mode": {
    "name": "ipython",
    "version": 3
   },
   "file_extension": ".py",
   "mimetype": "text/x-python",
   "name": "python",
   "nbconvert_exporter": "python",
   "pygments_lexer": "ipython3",
   "version": "3.7.3"
  }
 },
 "nbformat": 4,
 "nbformat_minor": 4
}
